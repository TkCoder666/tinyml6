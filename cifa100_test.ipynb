{
 "cells": [
  {
   "cell_type": "code",
   "execution_count": 1,
   "metadata": {},
   "outputs": [],
   "source": [
    "import torch"
   ]
  },
  {
   "cell_type": "code",
   "execution_count": 2,
   "metadata": {},
   "outputs": [],
   "source": [
    "model = torch.load(\"original_model/resnet56_model.pth\")"
   ]
  },
  {
   "cell_type": "code",
   "execution_count": 3,
   "metadata": {},
   "outputs": [],
   "source": [
    "from torchvision.datasets import CIFAR100\n",
    "import torchvision.transforms as T"
   ]
  },
  {
   "cell_type": "code",
   "execution_count": 4,
   "metadata": {},
   "outputs": [],
   "source": [
    "train_transform = T.Compose([\n",
    "    T.ToTensor(),\n",
    "])\n",
    "\n",
    "test_transform = T.Compose([\n",
    "    T.ToTensor(),\n",
    "])"
   ]
  },
  {
   "cell_type": "code",
   "execution_count": 5,
   "metadata": {},
   "outputs": [
    {
     "name": "stdout",
     "output_type": "stream",
     "text": [
      "Files already downloaded and verified\n"
     ]
    }
   ],
   "source": [
    "\n",
    "valset = CIFAR100(root=\"./data\",train=False,transform=test_transform,download=True)"
   ]
  },
  {
   "cell_type": "code",
   "execution_count": 6,
   "metadata": {},
   "outputs": [],
   "source": [
    "batch_size = 256\n",
    "num_workers = 16\n",
    "val_sampler = None\n",
    "val_loader = torch.utils.data.DataLoader(valset, batch_size=batch_size,\n",
    "                                 shuffle=(val_sampler is None),\n",
    "                                 sampler=val_sampler,\n",
    "                                 num_workers=num_workers,\n",
    "                                 persistent_workers=True)\n",
    "# testloader = torch.utils.data.DataLoader(test_data, batch_size=batch_size,\n",
    "#                                          shuffle=False, num_workers=num_workers)\n",
    "\n",
    "device = torch.device(\"cuda\" if torch.cuda.is_available() else \"cpu\")"
   ]
  },
  {
   "cell_type": "code",
   "execution_count": 7,
   "metadata": {},
   "outputs": [
    {
     "data": {
      "text/plain": [
       "device(type='cuda')"
      ]
     },
     "execution_count": 7,
     "metadata": {},
     "output_type": "execute_result"
    }
   ],
   "source": [
    "device"
   ]
  },
  {
   "cell_type": "code",
   "execution_count": 8,
   "metadata": {},
   "outputs": [],
   "source": [
    "import torch.distributed as dist\n",
    "def _all_reduce(*args, reduction=\"sum\"):\n",
    "    t = torch.tensor(args, dtype=torch.float).cuda()\n",
    "    dist.all_reduce(t, op=_str_2_reduceop[reduction])\n",
    "    rev = t.tolist()\n",
    "    if reduction == \"mean\":\n",
    "        world_size = dist.get_world_size()\n",
    "        rev = [item/world_size for item in rev]\n",
    "    return rev\n",
    "_str_2_reduceop = dict(\n",
    "    sum=dist.ReduceOp.SUM,\n",
    "    mean=dist.ReduceOp.SUM,\n",
    "    product=dist.ReduceOp.PRODUCT,\n",
    "    min=dist.ReduceOp.MIN,\n",
    "    max=dist.ReduceOp.MAX,\n",
    ")\n",
    "\n",
    "class Accuracy(object):\n",
    "    def __init__(self):\n",
    "        self._is_distributed = dist.is_available() and dist.is_initialized()\n",
    "        self.reset()\n",
    "\n",
    "    def reset(self):\n",
    "        self._n_correct = 0.0\n",
    "        self._n_total = 0.0\n",
    "        self._reset_buffer()\n",
    "\n",
    "    @property\n",
    "    def rate(self):\n",
    "        self.sync()\n",
    "        return self._n_correct / (self._n_total+1e-8)\n",
    "\n",
    "    @property\n",
    "    def n_correct(self):\n",
    "        self.sync()\n",
    "        return self._n_correct\n",
    "\n",
    "    @property\n",
    "    def n_total(self):\n",
    "        self.sync()\n",
    "        return self._n_total\n",
    "\n",
    "    def _reset_buffer(self):\n",
    "        self._n_correct_since_last_sync = 0.0\n",
    "        self._n_total_since_last_sync = 0.0\n",
    "        self._is_synced = True\n",
    "\n",
    "    def update(self,  n_correct, n_total):\n",
    "        self._n_correct_since_last_sync += n_correct\n",
    "        self._n_total_since_last_sync += n_total\n",
    "        self._is_synced = False\n",
    "\n",
    "    def sync(self):\n",
    "        if self._is_synced:\n",
    "            return\n",
    "        n_correct = self._n_correct_since_last_sync\n",
    "        n_total = self._n_total_since_last_sync\n",
    "        if self._is_distributed:\n",
    "            n_correct, n_total = _all_reduce(n_correct, n_total, reduction=\"sum\")\n",
    "\n",
    "        self._n_correct += n_correct\n",
    "        self._n_total += n_total\n",
    "\n",
    "        self._reset_buffer()"
   ]
  },
  {
   "cell_type": "code",
   "execution_count": 9,
   "metadata": {},
   "outputs": [],
   "source": [
    "import typing\n",
    "class AccuracyMetric(object):\n",
    "    def __init__(self, topk: typing.Iterable[int] = (1,),):\n",
    "        self.topk = sorted(list(topk))\n",
    "        self.reset()\n",
    "\n",
    "    def reset(self) -> None:\n",
    "        self.accuracies = [Accuracy() for _ in self.topk]\n",
    "\n",
    "    def update(self, outputs: torch.Tensor, targets: torch.Tensor) -> None:\n",
    "        maxk = max(self.topk)\n",
    "        batch_size = targets.size(0)\n",
    "\n",
    "        _, pred = outputs.topk(k=maxk, dim=1, largest=True, sorted=True)\n",
    "        pred = pred.t()\n",
    "        correct = pred.eq(targets.view(1, -1))\n",
    "\n",
    "        for accuracy, k in zip(self.accuracies, self.topk):\n",
    "            correct_k = correct[:k].sum().item()\n",
    "            accuracy.update(correct_k, batch_size)\n",
    "\n",
    "    def at(self, topk: int) -> Accuracy:\n",
    "        if topk not in self.topk:\n",
    "            raise ValueError(f\"topk={topk} is not in registered topks={self.topk}\")\n",
    "        accuracy = self.accuracies[self.topk.index(topk)]\n",
    "        accuracy.sync()\n",
    "        return accuracy\n",
    "\n",
    "    def __str__(self):\n",
    "        items = [f\"top{k}-acc={self.at(k).rate*100:.2f}%\" for k in self.topk]\n",
    "        return \", \".join(items)"
   ]
  },
  {
   "cell_type": "code",
   "execution_count": 10,
   "metadata": {},
   "outputs": [],
   "source": [
    "import time\n",
    "def inference_benchmark(net, testloader,device):\n",
    "    correct = 0\n",
    "    total = 0\n",
    "    t1 = time.time()\n",
    "    net = net.to(device)\n",
    "    accuracy_metric = AccuracyMetric(topk=(1, 5))\n",
    "    with torch.no_grad():\n",
    "        for data in testloader:\n",
    "            images, labels = data\n",
    "            images = images.to(device)\n",
    "            labels = labels.to(device)\n",
    "            # calculate outputs by running images through the network\n",
    "            outputs = net(images)\n",
    "            # the class with the highest energy is what we choose as prediction\n",
    "            # _, predicted = torch.max(outputs.data, 1)\n",
    "            # total += labels.size(0)\n",
    "            # correct += (predicted == labels).sum().item()\n",
    "            accuracy_metric.update(outputs, labels)\n",
    "    t2 = time.time()\n",
    "    print(f\"time use is {t2 - t1}\")\n",
    "    print(\n",
    "        # f'Accuracy of the network on the 10000 test images: {100 * correct // total} %',\n",
    "        f\"top1_acc {accuracy_metric.at(1).rate} \",\n",
    "        f\"top5_acc {accuracy_metric.at(5).rate}\")"
   ]
  },
  {
   "cell_type": "code",
   "execution_count": 11,
   "metadata": {},
   "outputs": [
    {
     "name": "stdout",
     "output_type": "stream",
     "text": [
      "time use is 8.113527774810791\n",
      "top1_acc 0.6622999999993376  top5_acc 0.8691999999991308\n"
     ]
    }
   ],
   "source": [
    "inference_benchmark(model,val_loader,device)"
   ]
  }
 ],
 "metadata": {
  "kernelspec": {
   "display_name": "Python 3.7.15 ('tinyml': conda)",
   "language": "python",
   "name": "python3"
  },
  "language_info": {
   "codemirror_mode": {
    "name": "ipython",
    "version": 3
   },
   "file_extension": ".py",
   "mimetype": "text/x-python",
   "name": "python",
   "nbconvert_exporter": "python",
   "pygments_lexer": "ipython3",
   "version": "3.7.15"
  },
  "orig_nbformat": 4,
  "vscode": {
   "interpreter": {
    "hash": "cc4e0d317d9605a45be200e97ae5d1719a7e19a353a468883bc88fd0452c1206"
   }
  }
 },
 "nbformat": 4,
 "nbformat_minor": 2
}
